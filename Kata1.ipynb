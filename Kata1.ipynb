{
 "cells": [
  {
   "cell_type": "markdown",
   "metadata": {},
   "source": [
    "## Fecha\n",
    "Mostrará la fecha actual en la nave"
   ]
  },
  {
   "cell_type": "code",
   "execution_count": null,
   "metadata": {},
   "outputs": [],
   "source": [
    "from datetime import date                           # Importamos la biblioteca \n",
    "date.today()                                        # Obtenemos la fecha de hoy\n",
    "print(\"La fecha de hoy es: \" + str(date.today()))   # Mostramos la fecha en la consola"
   ]
  },
  {
   "cell_type": "markdown",
   "metadata": {},
   "source": [
    "## Convertidor entre parsecs y años luz\n",
    "Realizará una conversión de Parsecs ingresada por el usuario a años luz\n",
    "\n",
    "(1 parsec es 3.26156 años luz.)"
   ]
  },
  {
   "cell_type": "code",
   "execution_count": null,
   "metadata": {},
   "outputs": [],
   "source": [
    "parsec = input(\"Ingrese número de parsecs:\")        #Se solicita al usuario la cantidad de parsecs que se desean convertir\n",
    "lightyears = 3.26156 * float(parsec)                #Se ingresa la fórmula requerida para el cálculo de parsecs a años luz\n",
    "print(\"La cantidad de años luz es: \", lightyears)   #Se imprime el resultado en pantalla"
   ]
  }
 ],
 "metadata": {
  "interpreter": {
   "hash": "788e8995f74d8aa427260b98ba4e2ffe7ccbf982b316335d9886a97b7e42bcb8"
  },
  "kernelspec": {
   "display_name": "Python 3.10.2 64-bit",
   "language": "python",
   "name": "python3"
  },
  "language_info": {
   "codemirror_mode": {
    "name": "ipython",
    "version": 3
   },
   "file_extension": ".py",
   "mimetype": "text/x-python",
   "name": "python",
   "nbconvert_exporter": "python",
   "pygments_lexer": "ipython3",
   "version": "3.9.0"
  },
  "orig_nbformat": 4
 },
 "nbformat": 4,
 "nbformat_minor": 2
}
